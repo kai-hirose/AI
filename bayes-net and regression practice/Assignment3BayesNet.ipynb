{
 "cells": [
  {
   "cell_type": "markdown",
   "metadata": {},
   "source": [
    "Problem (Re)Statement:\n",
    "\n",
    "* Shortness of breath (dyspnea) may be due to tuberculosis, lung cancer or bronchitis, or none of them, or more than one of them. \n",
    "* A recent visit to Asia increases the chances of tuberculosis.\n",
    "* Smoking is known to be a risk factor for both lung cancer and bronchitis. \n",
    "* A positive chest X-ray suggests either lung cancer or tuberculosis, but cannot distinguish between them"
   ]
  },
  {
   "cell_type": "markdown",
   "metadata": {},
   "source": [
    "Here is a data set to pull your model parameters from"
   ]
  },
  {
   "cell_type": "code",
   "execution_count": 35,
   "metadata": {},
   "outputs": [],
   "source": [
    "from pandas import *\n",
    "df = pandas.read_csv(\"asia.csv\")"
   ]
  },
  {
   "cell_type": "code",
   "execution_count": 47,
   "metadata": {},
   "outputs": [
    {
     "data": {
      "text/html": [
       "<div>\n",
       "<style scoped>\n",
       "    .dataframe tbody tr th:only-of-type {\n",
       "        vertical-align: middle;\n",
       "    }\n",
       "\n",
       "    .dataframe tbody tr th {\n",
       "        vertical-align: top;\n",
       "    }\n",
       "\n",
       "    .dataframe thead th {\n",
       "        text-align: right;\n",
       "    }\n",
       "</style>\n",
       "<table border=\"1\" class=\"dataframe\">\n",
       "  <thead>\n",
       "    <tr style=\"text-align: right;\">\n",
       "      <th></th>\n",
       "      <th>Smoker</th>\n",
       "      <th>LungCancer</th>\n",
       "      <th>VisitToAsia</th>\n",
       "      <th>Tuberculosis</th>\n",
       "      <th>XRay</th>\n",
       "      <th>Bronchitis</th>\n",
       "      <th>Dyspnea</th>\n",
       "    </tr>\n",
       "  </thead>\n",
       "  <tbody>\n",
       "    <tr>\n",
       "      <td>0</td>\n",
       "      <td>1</td>\n",
       "      <td>1</td>\n",
       "      <td>0</td>\n",
       "      <td>0</td>\n",
       "      <td>1</td>\n",
       "      <td>1</td>\n",
       "      <td>1</td>\n",
       "    </tr>\n",
       "    <tr>\n",
       "      <td>1</td>\n",
       "      <td>0</td>\n",
       "      <td>0</td>\n",
       "      <td>0</td>\n",
       "      <td>0</td>\n",
       "      <td>1</td>\n",
       "      <td>1</td>\n",
       "      <td>1</td>\n",
       "    </tr>\n",
       "    <tr>\n",
       "      <td>2</td>\n",
       "      <td>0</td>\n",
       "      <td>0</td>\n",
       "      <td>0</td>\n",
       "      <td>0</td>\n",
       "      <td>0</td>\n",
       "      <td>1</td>\n",
       "      <td>1</td>\n",
       "    </tr>\n",
       "    <tr>\n",
       "      <td>3</td>\n",
       "      <td>0</td>\n",
       "      <td>0</td>\n",
       "      <td>0</td>\n",
       "      <td>0</td>\n",
       "      <td>0</td>\n",
       "      <td>1</td>\n",
       "      <td>1</td>\n",
       "    </tr>\n",
       "    <tr>\n",
       "      <td>4</td>\n",
       "      <td>1</td>\n",
       "      <td>0</td>\n",
       "      <td>0</td>\n",
       "      <td>0</td>\n",
       "      <td>0</td>\n",
       "      <td>1</td>\n",
       "      <td>0</td>\n",
       "    </tr>\n",
       "  </tbody>\n",
       "</table>\n",
       "</div>"
      ],
      "text/plain": [
       "   Smoker  LungCancer  VisitToAsia  Tuberculosis  XRay  Bronchitis  Dyspnea\n",
       "0       1           1            0             0     1           1        1\n",
       "1       0           0            0             0     1           1        1\n",
       "2       0           0            0             0     0           1        1\n",
       "3       0           0            0             0     0           1        1\n",
       "4       1           0            0             0     0           1        0"
      ]
     },
     "execution_count": 47,
     "metadata": {},
     "output_type": "execute_result"
    }
   ],
   "source": [
    "df.head()"
   ]
  },
  {
   "cell_type": "markdown",
   "metadata": {},
   "source": [
    "<image src=\"asia.gif\" size=200/>"
   ]
  },
  {
   "cell_type": "markdown",
   "metadata": {},
   "source": [
    "<image src=\"asia.gif\"/>"
   ]
  },
  {
   "cell_type": "markdown",
   "metadata": {},
   "source": [
    "Begin by writing out your model.  For example here are names of some nodes, and the arcs that connect them.\n",
    "<pre>\n",
    "Asia                 -> Tuberculosis\n",
    "\n",
    "Tuberculosis, Cancer -> Dyspnea\n",
    "\n",
    "</pre>"
   ]
  },
  {
   "cell_type": "markdown",
   "metadata": {},
   "source": [
    "-- Informally Write Your Model In This Cell -- \n",
    "It will determine the parameters you will need to get from the data set\n",
    "\n",
    "Tuberculosis, Cancer, Bronchitis-> Dyspnea\n",
    "\n",
    "Asia                 -> Tuberculosis\n",
    "\n",
    "Smoker -> Cancer, Bronchitis\n",
    "\n",
    "Lung Cancer, Tuberculosis -> X-ray"
   ]
  },
  {
   "cell_type": "markdown",
   "metadata": {},
   "source": [
    "Now define your distribtions"
   ]
  },
  {
   "cell_type": "code",
   "execution_count": 38,
   "metadata": {},
   "outputs": [],
   "source": [
    "from pomegranate import *\n",
    "\n",
    "asia = df.VisitToAsia.value_counts()[1]/len(df.VisitToAsia)\n",
    "asiadist =  DiscreteDistribution({0: (1-asia), 1: asia})\n",
    "\n",
    "smoker = df.Smoker.value_counts()[1]/len(df.Smoker)\n",
    "smokerdist = DiscreteDistribution({0: (1-smoker), 1: smoker})\n",
    "\n",
    "tbcross = pandas.crosstab([df.VisitToAsia], [df.Tuberculosis], margins=True)\n",
    "tbgivenasia = tbcross[1][1]/tbcross['All'][1]\n",
    "tbgivennasia = tbcross[1][0]/tbcross['All'][0]\n",
    "\n",
    "tbdist = ConditionalProbabilityTable(\n",
    "        [[1, 1, tbgivenasia],\n",
    "         [1, 0, 1-tbgivenasia],\n",
    "         [0, 1, tbgivennasia],\n",
    "         [0, 0, 1-tbgivennasia]], [asiadist])\n",
    "\n",
    "cancercross = pandas.crosstab([df.Smoker], [df.LungCancer], margins=True)\n",
    "cancergivensmoker = cancercross[1][1]/cancercross['All'][1]\n",
    "cancergivennsmoker = cancercross[1][0]/cancercross['All'][0]\n",
    "\n",
    "cancerdist = ConditionalProbabilityTable(\n",
    "        [[1, 1, cancergivensmoker],\n",
    "         [1, 0, 1-cancergivensmoker],\n",
    "         [0, 1, cancergivennsmoker],\n",
    "         [0, 0, 1-cancergivennsmoker]], [smokerdist])\n",
    "\n",
    "bronchitiscross = pandas.crosstab([df.Smoker], [df.Bronchitis], margins=True)\n",
    "bronchitisgivensmoker = bronchitiscross[1][1]/bronchitiscross['All'][1]\n",
    "bronchitisgivennsmoker = bronchitiscross[1][0]/bronchitiscross['All'][0]\n",
    "\n",
    "bronchitisdist = ConditionalProbabilityTable(\n",
    "        [[1, 1, bronchitisgivensmoker],\n",
    "         [1, 0, 1-bronchitisgivensmoker],\n",
    "         [0, 1, bronchitisgivennsmoker],\n",
    "         [0, 0, 1-bronchitisgivennsmoker]], [smokerdist])\n",
    "\n",
    "dyspneacross = pandas.crosstab([df.Bronchitis, df.Dyspnea], [df.Tuberculosis, df.LungCancer], margins=True)\n",
    "\n",
    "dyspneadist = ConditionalProbabilityTable(\n",
    "        [[0, 0, 0, 0, dyspneacross[0][0][0][0]/(dyspneacross[0][0][0][0]+dyspneacross[0][0][0][1])],\n",
    "         [0, 0, 0, 1, dyspneacross[0][0][0][1]/(dyspneacross[0][0][0][0]+dyspneacross[0][0][0][1])],\n",
    "         [0, 0, 1, 0, dyspneacross[0][0][1][0]/(dyspneacross[0][0][1][0]+dyspneacross[0][0][1][1])],\n",
    "         [0, 0, 1, 1, dyspneacross[0][0][1][1]/(dyspneacross[0][0][1][0]+dyspneacross[0][0][1][1])],\n",
    "         [0, 1, 0, 0, dyspneacross[0][1][0][0]/(dyspneacross[0][1][0][0]+dyspneacross[0][1][0][1])],\n",
    "         [0, 1, 0, 1, dyspneacross[0][1][0][1]/(dyspneacross[0][1][0][0]+dyspneacross[0][1][0][1])],\n",
    "         [0, 1, 1, 0, dyspneacross[0][1][1][0]/(dyspneacross[0][1][1][0]+dyspneacross[0][1][1][1])],\n",
    "         [0, 1, 1, 1, dyspneacross[0][1][1][1]/(dyspneacross[0][1][1][0]+dyspneacross[0][1][1][1])],\n",
    "         [1, 0, 0, 0, dyspneacross[1][0][0][0]/(dyspneacross[1][0][0][0]+dyspneacross[1][0][0][1])],\n",
    "         [1, 0, 0, 1, dyspneacross[1][0][0][1]/(dyspneacross[1][0][0][0]+dyspneacross[1][0][0][1])],\n",
    "         [1, 0, 1, 0, dyspneacross[1][0][1][0]/(dyspneacross[1][0][1][0]+dyspneacross[1][0][1][1])],\n",
    "         [1, 0, 1, 1, dyspneacross[1][0][1][1]/(dyspneacross[1][0][1][0]+dyspneacross[1][0][1][1])],\n",
    "         [1, 1, 0, 0, dyspneacross[1][1][0][0]/(dyspneacross[1][1][0][0]+dyspneacross[1][1][0][1])],\n",
    "         [1, 1, 0, 1, dyspneacross[1][1][0][1]/(dyspneacross[1][1][0][0]+dyspneacross[1][1][0][1])],\n",
    "         [1, 1, 1, 0, dyspneacross[1][1][1][0]/(dyspneacross[1][1][1][0]+dyspneacross[1][1][1][1])],\n",
    "         [1, 1, 1, 1, dyspneacross[1][1][1][1]/(dyspneacross[1][1][1][0]+dyspneacross[1][1][1][1])]\n",
    "            ],[tbdist, cancerdist, bronchitisdist])\n",
    "\n",
    "\n",
    "xraycross = pandas.crosstab([df.XRay], [df.Tuberculosis, df.LungCancer], margins=True)\n",
    "xraydist = ConditionalProbabilityTable(\n",
    "        [[0, 0, 0, xraycross[0][0][0]/(xraycross[0][0][0]+xraycross[0][0][1])],\n",
    "         [0, 0, 1, xraycross[0][0][1]/(xraycross[0][0][0]+xraycross[0][0][1])],\n",
    "         [0, 1, 0, xraycross[0][1][0]/(xraycross[0][1][0]+xraycross[0][1][1])],\n",
    "         [0, 1, 1, xraycross[0][1][1]/(xraycross[0][1][0]+xraycross[0][1][1])],\n",
    "         [1, 0, 0, xraycross[1][0][0]/(xraycross[1][0][0]+xraycross[1][0][1])],\n",
    "         [1, 0, 1, xraycross[1][0][1]/(xraycross[1][0][0]+xraycross[1][0][1])],\n",
    "         [1, 1, 0, xraycross[1][1][0]/(xraycross[1][1][0]+xraycross[1][1][1])],\n",
    "         [1, 1, 1, xraycross[1][1][1]/(xraycross[1][1][0]+xraycross[1][1][1])]\n",
    "            ], [tbdist, cancerdist])"
   ]
  },
  {
   "cell_type": "markdown",
   "metadata": {},
   "source": [
    "Next define the nodes in your network"
   ]
  },
  {
   "cell_type": "code",
   "execution_count": 39,
   "metadata": {},
   "outputs": [],
   "source": [
    "asia = Node(asiadist, name=\"Asia\")\n",
    "smoker = Node(smokerdist, name=\"Smoker\")\n",
    "tb = Node(tbdist, name=\"Tuberculosis\")\n",
    "cancer = Node(cancerdist, name=\"Lung Cancer\")\n",
    "bronchitis = Node(bronchitisdist, name=\"Bronchitis\")\n",
    "xray = Node(xraydist, name=\"X-Ray\")\n",
    "dyspnea = Node(dyspneadist, name=\"Dyspnea\")"
   ]
  },
  {
   "cell_type": "markdown",
   "metadata": {},
   "source": [
    "Define your model, adding states and edges"
   ]
  },
  {
   "cell_type": "code",
   "execution_count": 40,
   "metadata": {},
   "outputs": [],
   "source": [
    "model = BayesianNetwork(\"Lung\")\n",
    "model.add_states(asia, smoker, tb, cancer, bronchitis, xray, dyspnea)\n",
    "model.add_edge(asia, tb)\n",
    "model.add_edge(smoker, cancer)\n",
    "model.add_edge(smoker, bronchitis)\n",
    "model.add_edge(tb, xray)\n",
    "model.add_edge(tb, dyspnea)\n",
    "model.add_edge(cancer, xray)\n",
    "model.add_edge(cancer, dyspnea)\n",
    "model.add_edge(bronchitis, dyspnea)\n",
    "model.bake()    "
   ]
  },
  {
   "cell_type": "markdown",
   "metadata": {},
   "source": [
    "------------------------------------------------"
   ]
  },
  {
   "cell_type": "markdown",
   "metadata": {},
   "source": [
    "#### Questions"
   ]
  },
  {
   "cell_type": "markdown",
   "metadata": {},
   "source": [
    "1.  What is the probability that an individual in the sampled population has either lung cancer or tuberculosis?"
   ]
  },
  {
   "cell_type": "code",
   "execution_count": 46,
   "metadata": {},
   "outputs": [
    {
     "name": "stdout",
     "output_type": "stream",
     "text": [
      "0.06535486000000125\n"
     ]
    }
   ],
   "source": [
    "#The X-Ray probability being 1, or do I add TB and cancer and remove cross?\n",
    "A = model.predict_proba({})[2].parameters[0][1]\n",
    "B = model.predict_proba({})[3].parameters[0][1]\n",
    "AgivenB = model.predict_proba({\"Lung Cancer\":1})[2].parameters[0][1]\n",
    "AandB = AgivenB*B\n",
    "print(A+B-AandB)"
   ]
  },
  {
   "cell_type": "markdown",
   "metadata": {},
   "source": [
    "2.  What is the probability that an individual in the sampled population will have a positive chest X-ray?  "
   ]
  },
  {
   "cell_type": "code",
   "execution_count": 42,
   "metadata": {},
   "outputs": [
    {
     "data": {
      "text/plain": [
       "0.11052895971666488"
      ]
     },
     "execution_count": 42,
     "metadata": {},
     "output_type": "execute_result"
    }
   ],
   "source": [
    "model.predict_proba({})[5].parameters[0][1]"
   ]
  },
  {
   "cell_type": "markdown",
   "metadata": {},
   "source": [
    "3.  How much does a trip to Asia affect the likelihood of an individual having Dyspnea?"
   ]
  },
  {
   "cell_type": "code",
   "execution_count": 43,
   "metadata": {},
   "outputs": [
    {
     "name": "stdout",
     "output_type": "stream",
     "text": [
      "0.023797883148265253\n"
     ]
    }
   ],
   "source": [
    "print((model.predict_proba({\"Asia\":1})[6].parameters[0][1])-(model.predict_proba({})[6].parameters[0][1]))"
   ]
  },
  {
   "cell_type": "markdown",
   "metadata": {},
   "source": [
    "It increases the odds by 2.37%"
   ]
  },
  {
   "cell_type": "markdown",
   "metadata": {},
   "source": [
    "4.  Suppose you are a nonsmoker individual presenting with Dyspnea and you have never been to Asia.  In your panic you have a chest XRay done, which comes out negative.   What do you now know about the state of your health?  That is, do you believe you are more, less, or equally likely to have Tuberculosis, Lung Cancer, or Bronchitis?"
   ]
  },
  {
   "cell_type": "code",
   "execution_count": 44,
   "metadata": {},
   "outputs": [
    {
     "data": {
      "text/plain": [
       "array([0, 0,\n",
       "       {\n",
       "    \"class\" :\"Distribution\",\n",
       "    \"dtype\" :\"int\",\n",
       "    \"name\" :\"DiscreteDistribution\",\n",
       "    \"parameters\" :[\n",
       "        {\n",
       "            \"0\" :0.9994455574670935,\n",
       "            \"1\" :0.0005544425329065244\n",
       "        }\n",
       "    ],\n",
       "    \"frozen\" :false\n",
       "},\n",
       "       {\n",
       "    \"class\" :\"Distribution\",\n",
       "    \"dtype\" :\"int\",\n",
       "    \"name\" :\"DiscreteDistribution\",\n",
       "    \"parameters\" :[\n",
       "        {\n",
       "            \"0\" :0.9993124030443784,\n",
       "            \"1\" :0.0006875969556215444\n",
       "        }\n",
       "    ],\n",
       "    \"frozen\" :false\n",
       "},\n",
       "       {\n",
       "    \"class\" :\"Distribution\",\n",
       "    \"dtype\" :\"int\",\n",
       "    \"name\" :\"DiscreteDistribution\",\n",
       "    \"parameters\" :[\n",
       "        {\n",
       "            \"0\" :0.21993904950182494,\n",
       "            \"1\" :0.780060950498175\n",
       "        }\n",
       "    ],\n",
       "    \"frozen\" :false\n",
       "},\n",
       "       0, 1], dtype=object)"
      ]
     },
     "execution_count": 44,
     "metadata": {},
     "output_type": "execute_result"
    }
   ],
   "source": [
    "model.predict_proba({\"Smoker\":0, \"Dyspnea\":1, \"Asia\":0, \"X-Ray\":0})"
   ]
  },
  {
   "cell_type": "markdown",
   "metadata": {},
   "source": [
    "The chances of having tuberculosis or lung cancer is less than 0.1%. Although we can not be certain, there is a higher chance that you have bronchitis at 78%."
   ]
  }
 ],
 "metadata": {
  "kernelspec": {
   "display_name": "Python 3",
   "language": "python",
   "name": "python3"
  },
  "language_info": {
   "codemirror_mode": {
    "name": "ipython",
    "version": 3
   },
   "file_extension": ".py",
   "mimetype": "text/x-python",
   "name": "python",
   "nbconvert_exporter": "python",
   "pygments_lexer": "ipython3",
   "version": "3.7.4"
  }
 },
 "nbformat": 4,
 "nbformat_minor": 2
}
